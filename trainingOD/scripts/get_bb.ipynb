{
 "cells": [
  {
   "cell_type": "code",
   "execution_count": null,
   "metadata": {},
   "outputs": [],
   "source": [
    "import cv2 as cv\n",
    "import os\n",
    "import matplotlib.pyplot as plt\n",
    "import json\n",
    "import numpy as np\n",
    "from tqdm import tqdm\n",
    "import sys\n",
    "sys.path.append('../')\n",
    "from utils import *\n",
    "\n",
    "annot = False\n",
    "cls = ['good', 'tear']\n",
    "folders = [\"../train_test_splited_data/train\", \"../train_test_splited_data/test\"]\n",
    "# folders = [\"train_test_splited_data/test\"]\n",
    "\n",
    "train_indexing = os.listdir(f\"{folders[0]}/images\")\n",
    "print(train_indexing)\n",
    "train_good_indexing = [i for i in train_indexing if 'good' in i]\n",
    "print(len(train_good_indexing))\n",
    "train_tear_indexing = [i for i in train_indexing if 'tear' in i]\n",
    "print(len(train_tear_indexing))\n",
    "train_good_indexing = [int(i.split('_')[-1].split('.')[0]) for i in train_good_indexing]\n",
    "train_tear_indexing = [int(i.split('_')[-1].split('.')[0]) for i in train_tear_indexing]\n",
    "\n",
    "test_indexing = os.listdir(f\"{folders[1]}/images\")\n",
    "print(test_indexing)\n",
    "test_good_indexing = [i for i in test_indexing if 'good' in i]\n",
    "print(len(test_good_indexing))\n",
    "test_tear_indexing = [i for i in test_indexing if 'tear' in i]\n",
    "print(len(test_tear_indexing))\n",
    "test_good_indexing = [int(i.split('_')[-1].split('.')[0]) for i in test_good_indexing]\n",
    "test_tear_indexing = [int(i.split('_')[-1].split('.')[0]) for i in test_tear_indexing]\n",
    "\n"
   ]
  },
  {
   "cell_type": "code",
   "execution_count": null,
   "metadata": {},
   "outputs": [],
   "source": [
    "if annot:\n",
    "    for folder in folders:\n",
    "        !rm -rf {folder}/annotations\n",
    "\n",
    "    for folder in folders:\n",
    "        if folder == folders[0]:\n",
    "            good_indexing = train_good_indexing\n",
    "            tear_indexing = train_tear_indexing\n",
    "        else:\n",
    "            good_indexing = test_good_indexing\n",
    "            tear_indexing = test_tear_indexing\n",
    "        Anotate(folder, good_indexing, cls[0])\n",
    "        Anotate(folder, tear_indexing, cls[1])\n",
    "else:\n",
    "    pass"
   ]
  },
  {
   "cell_type": "code",
   "execution_count": null,
   "metadata": {},
   "outputs": [],
   "source": [
    "for folder in folders:    \n",
    "    index = 1\n",
    "    tear_img_path = f\"{folder}/images/tear_{index}.png\"\n",
    "    tear_txt_path1 = f\"{folder}/labels/tear_{index}.txt\"\n",
    "    tear_txt_path2 = f\"{folder}/predict/tear_{index}.txt\"\n",
    "    tear_json_path = f\"{folder}/annotations/tear_{index}.json\"\n",
    "\n",
    "    txt_paths = []\n",
    "    if os.path.exists(tear_txt_path1):\n",
    "        txt_paths.append(tear_txt_path1)\n",
    "    if os.path.exists(tear_txt_path2):\n",
    "        txt_paths.append(tear_txt_path2)\n",
    "\n",
    "    if txt_paths:\n",
    "        draw_boxes_and_save_to_json(folder, tear_img_path, txt_paths, tear_json_path, index, cls[1], show=True, save=False)\n",
    "\n"
   ]
  },
  {
   "cell_type": "code",
   "execution_count": null,
   "metadata": {},
   "outputs": [],
   "source": [
    "for folder in folders:\n",
    "    print(len(os.listdir(f'{folder}/annotations/{cls[0]}/img')),len(os.listdir(f'{folder}/annotations/{cls[1]}/img')))"
   ]
  },
  {
   "cell_type": "code",
   "execution_count": null,
   "metadata": {},
   "outputs": [],
   "source": [
    "def get_min_max_IoU(folder, cls):\n",
    "    import re\n",
    "    index = [int(re.findall(r'\\d+', i)[0]) for i in os.listdir(f\"{folder}/annotations/{cls}/anot\")]\n",
    "    min_IoU = 1\n",
    "    max_IoU = 0\n",
    "    for i in index:\n",
    "        with open(f\"{folder}/annotations/{cls}/anot/{i}.json\") as json_file:\n",
    "            data = json.load(json_file)\n",
    "            for key in data:\n",
    "                if data[key]['IoU'] < min_IoU:\n",
    "                    min_IoU = data[key]['IoU']\n",
    "                if data[key]['IoU'] > max_IoU:\n",
    "                    max_IoU = data[key]['IoU']\n",
    "    return min_IoU, max_IoU\n",
    "\n",
    "for folder in folders:\n",
    "    print(f\"Folder: {folder}\")\n",
    "    min_IoU, max_IoU = get_min_max_IoU(folder, cls[0])\n",
    "    # cls[0] = good\n",
    "    print(min_IoU, max_IoU)\n",
    "    min_IoU, max_IoU = get_min_max_IoU(folder, cls[1])\n",
    "    # cls[1] = tear\n",
    "    print(min_IoU, max_IoU)"
   ]
  },
  {
   "cell_type": "code",
   "execution_count": null,
   "metadata": {},
   "outputs": [],
   "source": [
    "good_train_images = list_images(folders[0], cls[0], 0.75)\n",
    "tear_train_images = list_images(folders[0], cls[1], 0.75)\n",
    "good_test_images = list_images(folders[1], cls[0], 0.75)\n",
    "tear_test_images = list_images(folders[1], cls[1], 0.75)"
   ]
  }
 ],
 "metadata": {
  "kernelspec": {
   "display_name": "AD",
   "language": "python",
   "name": "python3"
  },
  "language_info": {
   "codemirror_mode": {
    "name": "ipython",
    "version": 3
   },
   "file_extension": ".py",
   "mimetype": "text/x-python",
   "name": "python",
   "nbconvert_exporter": "python",
   "pygments_lexer": "ipython3",
   "version": "3.10.14"
  }
 },
 "nbformat": 4,
 "nbformat_minor": 2
}
