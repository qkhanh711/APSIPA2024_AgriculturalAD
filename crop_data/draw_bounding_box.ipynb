{
 "cells": [
  {
   "cell_type": "code",
   "execution_count": null,
   "metadata": {},
   "outputs": [],
   "source": [
    "import os\n",
    "import numpy as np\n",
    "import cv2 as cv\n",
    "from matplotlib import pyplot as plt\n",
    "import scipy.io\n"
   ]
  },
  {
   "cell_type": "code",
   "execution_count": 2,
   "metadata": {},
   "outputs": [],
   "source": [
    "def thresh_split_chanel(img, thresh1, thresh2):\n",
    "    gray1 = img[:,:,1]\n",
    "    mask1 = cv.inRange(gray1, 0, thresh1) #90\n",
    "    gray2 = img[:,:,2]\n",
    "    mask2 = cv.inRange(gray2, thresh2, 255) #130\n",
    "    # combine white part of both images\n",
    "    mask = cv.bitwise_or(mask1, mask2)\n",
    "    return mask"
   ]
  },
  {
   "cell_type": "code",
   "execution_count": 3,
   "metadata": {},
   "outputs": [],
   "source": [
    "def center_crop(img, cut_width=0, cut_height=0):\n",
    "    width, height = img.shape[1], img.shape[0]\n",
    "    new_width = width - cut_width\n",
    "    new_height = height - cut_height\n",
    "    left = (width - new_width) / 2\n",
    "    top = (height - new_height) / 2\n",
    "    right = (width + new_width) / 2\n",
    "    bottom = (height + new_height) / 2\n",
    "    return img[int(top):int(bottom), int(left):int(right)]"
   ]
  },
  {
   "cell_type": "code",
   "execution_count": 4,
   "metadata": {},
   "outputs": [],
   "source": [
    "def crop_rotation(image, box, height, width):\n",
    "    \n",
    "\n",
    "    src_pts = box.astype(\"float32\")\n",
    "    dst_pts = np.array([[0, height],\n",
    "                        [0, 0],\n",
    "                        [width, 0],\n",
    "                        [width, height]], dtype=\"float32\")\n",
    "\n",
    "    M = cv.getPerspectiveTransform(src_pts, dst_pts)\n",
    "\n",
    "    # directly warp the rotated rectangle to get the straightened rectangle\n",
    "    warped = cv.warpPerspective(image, M, (width, height))\n",
    "    return warped"
   ]
  },
  {
   "cell_type": "code",
   "execution_count": 8,
   "metadata": {},
   "outputs": [],
   "source": [
    "def segmentation(img_path, filename,rotation):\n",
    "\n",
    "    global count\n",
    "    assert os.path.exists(img_path), \"File does not exist\"\n",
    "    output_dir = \"/home/linhphuong/Documents/documents/anomaly_detection/data_for_YOLOv9/train/lables/\"\n",
    "\n",
    "\n",
    "    min_height = 30\n",
    "    min_width = 30\n",
    "    extend_box = 5\n",
    "    # Đọc ảnh và chuyển đổi sang grayscale\n",
    "    img = cv.imread(img_path)\n",
    "    img = center_crop(img, 300)\n",
    "\n",
    "    thresh = thresh_split_chanel(img, 95, 130)\n",
    "    # 85 for train\n",
    "    # 95 for test\n",
    "\n",
    "\n",
    "    # Loại bỏ nhiễu và xác định vùng nền chắc chắn\n",
    "    kernel = np.ones((3, 3), np.uint8)\n",
    "    opening = cv.morphologyEx(thresh, cv.MORPH_OPEN, kernel, iterations=1)\n",
    "    sure_bg = cv.dilate(opening, kernel, iterations=1)\n",
    "\n",
    "    # Xác định vùng chữ chắc chắn\n",
    "    dist_transform = cv.distanceTransform(opening, cv.DIST_L2, 5)\n",
    "    _, sure_fg = cv.threshold(dist_transform, 0.001 * dist_transform.max(), 255, 0)\n",
    "    sure_fg = np.uint8(sure_fg)\n",
    "\n",
    "    # Xác định vùng không xác định\n",
    "    unknown = cv.subtract(sure_bg, sure_fg)\n",
    "\n",
    "    # Nhãn các vùng\n",
    "    _, markers = cv.connectedComponents(sure_fg)\n",
    "    markers = markers + 1\n",
    "    markers[unknown == 255] = 0\n",
    "\n",
    "    # Watershed\n",
    "    markers = cv.watershed(img, markers)\n",
    "\n",
    "    # Tăng kích thước các đường viền\n",
    "    markers = markers.astype(np.uint8)\n",
    "    kernel_dilate = np.ones((3, 3), np.uint8)\n",
    "    markers = cv.dilate(markers, kernel_dilate, iterations=1)\n",
    "\n",
    "    # non_background = img.copy()\n",
    "    # non_background[markers==1] = 0\n",
    "\n",
    "    objects = np.logical_and(markers != 1, markers != 255)\n",
    "\n",
    "    # Find contours in the binary_markers image\n",
    "    contours, _ = cv.findContours(objects.astype(np.uint8), cv.RETR_EXTERNAL, cv.CHAIN_APPROX_SIMPLE)\n",
    "\n",
    "    # base_image = non_background\n",
    "    base_image = img\n",
    "\n",
    "    for contour in contours:    \n",
    "        # Tính toán hình chữ nhật có diện tích nhỏ nhất bao quanh contour\n",
    "        x, y, w, h = cv.boundingRect(contour)\n",
    "        x1 = max(0, x - extend_box)\n",
    "        y1 = max(0, y - extend_box)\n",
    "        x2 = min(base_image.shape[1], x + w + extend_box)\n",
    "        y2 = min(base_image.shape[0], y + h + extend_box)\n",
    "        if w >= min_width and h >= min_height and x>0 and y>0 and x+w<base_image.shape[1] and y+h<base_image.shape[0]:\n",
    "            cv.rectangle(base_image, (x1, y1), (x2, y2), (0, 255, 0), 2)\n",
    "            x_center = (x1 + x2)/2/w\n",
    "            y_center = (y1 + y2)/2/h\n",
    "    image_name = f\"{filename}.png\"\n",
    "    name = f\"{count}.txt\"\n",
    "    cv.imwrite(os.path.join(output_dir, image_name), base_image)\n",
    "    with open(name,\"w\") as f:\n",
    "        f.write(\"0\" + \" \" + str(x_center) + \" \"+ str(y_center) + \" \"+ str(w) + \" \"+ str(h))\n",
    "        f.write(\"\\n\")\n",
    "        print(filename)\n",
    "    count+=1"
   ]
  },
  {
   "cell_type": "code",
   "execution_count": 9,
   "metadata": {},
   "outputs": [
    {
     "ename": "NameError",
     "evalue": "name 'f' is not defined",
     "output_type": "error",
     "traceback": [
      "\u001b[0;31m---------------------------------------------------------------------------\u001b[0m",
      "\u001b[0;31mNameError\u001b[0m                                 Traceback (most recent call last)",
      "Cell \u001b[0;32mIn[9], line 6\u001b[0m\n\u001b[1;32m      4\u001b[0m img_path \u001b[38;5;241m=\u001b[39m os\u001b[38;5;241m.\u001b[39mpath\u001b[38;5;241m.\u001b[39mjoin(folder_path, filename)   \n\u001b[1;32m      5\u001b[0m \u001b[38;5;66;03m# Gọi hàm a trên ảnh\u001b[39;00m\n\u001b[0;32m----> 6\u001b[0m segmentation(img_path, filename,rotation\u001b[38;5;241m=\u001b[39m\u001b[38;5;28;01mFalse\u001b[39;00m)\n",
      "Cell \u001b[0;32mIn[8], line 70\u001b[0m, in \u001b[0;36msegmentation\u001b[0;34m(img_path, filename, rotation)\u001b[0m\n\u001b[1;32m     68\u001b[0m             x_center \u001b[38;5;241m=\u001b[39m (x1 \u001b[38;5;241m+\u001b[39m x2)\u001b[38;5;241m/\u001b[39m\u001b[38;5;241m2\u001b[39m\u001b[38;5;241m/\u001b[39mweight\n\u001b[1;32m     69\u001b[0m             y_center \u001b[38;5;241m=\u001b[39m (y1 \u001b[38;5;241m+\u001b[39m y2)\u001b[38;5;241m/\u001b[39m\u001b[38;5;241m2\u001b[39m\u001b[38;5;241m/\u001b[39mheight\n\u001b[0;32m---> 70\u001b[0m             f\u001b[38;5;241m.\u001b[39mwrite(\u001b[38;5;124m\"\u001b[39m\u001b[38;5;124m0\u001b[39m\u001b[38;5;124m\"\u001b[39m \u001b[38;5;241m+\u001b[39m \u001b[38;5;124m\"\u001b[39m\u001b[38;5;124m \u001b[39m\u001b[38;5;124m\"\u001b[39m \u001b[38;5;241m+\u001b[39m \u001b[38;5;28mstr\u001b[39m(x_center) \u001b[38;5;241m+\u001b[39m \u001b[38;5;124m\"\u001b[39m\u001b[38;5;124m \u001b[39m\u001b[38;5;124m\"\u001b[39m\u001b[38;5;241m+\u001b[39m \u001b[38;5;28mstr\u001b[39m(y_center) \u001b[38;5;241m+\u001b[39m \u001b[38;5;124m\"\u001b[39m\u001b[38;5;124m \u001b[39m\u001b[38;5;124m\"\u001b[39m\u001b[38;5;241m+\u001b[39m \u001b[38;5;28mstr\u001b[39m(w\u001b[38;5;241m/\u001b[39mweight) \u001b[38;5;241m+\u001b[39m \u001b[38;5;124m\"\u001b[39m\u001b[38;5;124m \u001b[39m\u001b[38;5;124m\"\u001b[39m\u001b[38;5;241m+\u001b[39m \u001b[38;5;28mstr\u001b[39m(h\u001b[38;5;241m/\u001b[39mheight))\n\u001b[1;32m     71\u001b[0m             f\u001b[38;5;241m.\u001b[39mwrite(\u001b[38;5;124m\"\u001b[39m\u001b[38;5;130;01m\\n\u001b[39;00m\u001b[38;5;124m\"\u001b[39m)\n\u001b[1;32m     72\u001b[0m count\u001b[38;5;241m+\u001b[39m\u001b[38;5;241m=\u001b[39m\u001b[38;5;241m1\u001b[39m\n",
      "\u001b[0;31mNameError\u001b[0m: name 'f' is not defined"
     ]
    }
   ],
   "source": [
    "folder_path = '/home/linhphuong/Documents/documents/anomaly_detection/data_for_YOLOv9/train/images/'\n",
    "count = 0\n",
    "for filename in os.listdir(folder_path):\n",
    "    img_path = os.path.join(folder_path, filename)   \n",
    "    # Gọi hàm a trên ảnh\n",
    "    segmentation(img_path, filename,rotation=False)"
   ]
  },
  {
   "cell_type": "code",
   "execution_count": null,
   "metadata": {},
   "outputs": [],
   "source": [
    "for i in lis:\n",
    "    link = \"/home/linhphuong/anaconda3/gen_data/yolov7/text/total_texttext/TT_new_train_GT/Train/\" + i\n",
    "    mat = scipy.io.loadmat(link)\n",
    "    mat = mat['gt']\n",
    "    name = \"/home/linhphuong/anaconda3/gen_data/yolov7/text/total_texttext/txt/\" + i[3:len(i)-4] + \".txt\"\n",
    "    im = \"/home/linhphuong/anaconda3/gen_data/yolov7/text/total_texttext/totaltext/Images/Train/\"  + i[3:len(i)-4] + \".jpg\"\n",
    "    print(im)\n",
    "    img = cv2.imread(im)\n",
    "    h, w, _ = img.shape\n",
    "    with open(name,\"w\") as f:\n",
    "        for j in mat:\n",
    "            x_min = j[1].min()\n",
    "            x_max = j[1].max()\n",
    "            y_min = j[3].min()\n",
    "            y_max = j[3].max()\n",
    "            x_center = (x_max + x_min)/2/w\n",
    "            y_center = (y_max + y_min)/2/h\n",
    "            weight = (x_max - x_min)/w\n",
    "            height = (y_max - y_min)/h\n",
    "            f.write(\"0\" + \" \" + str(x_center) + \" \"+ str(y_center) + \" \"+ str(weight) + \" \"+ str(height))\n",
    "            f.write(\"\\n\")"
   ]
  }
 ],
 "metadata": {
  "kernelspec": {
   "display_name": "PAD",
   "language": "python",
   "name": "python3"
  },
  "language_info": {
   "codemirror_mode": {
    "name": "ipython",
    "version": 3
   },
   "file_extension": ".py",
   "mimetype": "text/x-python",
   "name": "python",
   "nbconvert_exporter": "python",
   "pygments_lexer": "ipython3",
   "version": "3.10.14"
  }
 },
 "nbformat": 4,
 "nbformat_minor": 2
}
