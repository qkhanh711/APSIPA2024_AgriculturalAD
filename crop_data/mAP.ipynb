{
 "cells": [
  {
   "cell_type": "code",
   "execution_count": 46,
   "metadata": {},
   "outputs": [
    {
     "name": "stdout",
     "output_type": "stream",
     "text": [
      "AP@0.5: 1.0, 0.9933333333333334, 0.9979477418259909, 0.9988458110516933\n",
      "MAP: 0.9975317215527544\n",
      "AP@0.75: 1.0, 0.993125, 0.9954704029145434, 0.9836498917748917\n",
      "MAP: 0.9930613236723589\n",
      "AP@0.9: 0.9740295815295815, 0.9071153152403152, 0.944177425328296, 0.8622508212273837\n",
      "MAP: 0.9218932858313941\n"
     ]
    }
   ],
   "source": [
    "import os\n",
    "import json\n",
    "import numpy as np\n",
    "from utils import calculate_map, load_annotations\n",
    "\n",
    "# Paths to the annotation directories\n",
    "test_good_path = 'train_test_splited_data/test/annotations/good/anot'\n",
    "test_tear_path = 'train_test_splited_data/test/annotations/tear/anot'\n",
    "train_good_path = 'train_test_splited_data/train/annotations/good/anot'\n",
    "train_tear_path = 'train_test_splited_data/train/annotations/tear/anot'\n",
    "\n",
    "# Load annotations\n",
    "test_good_annotations = load_annotations(test_good_path)\n",
    "test_tear_annotations = load_annotations(test_tear_path)\n",
    "train_good_annotations = load_annotations(train_good_path)\n",
    "train_tear_annotations = load_annotations(train_tear_path)\n",
    "\n",
    "# Calculate AP for each category\n",
    "iou_thresholds = [0.5, 0.75, 0.90]\n",
    "\n",
    "for iou_threshold in iou_thresholds:\n",
    "    ap_test_good = calculate_map(iou_threshold, test_good_annotations)\n",
    "    ap_test_tear = calculate_map(iou_threshold, test_tear_annotations)\n",
    "    ap_train_good = calculate_map(iou_threshold, train_good_annotations)\n",
    "    ap_train_tear = calculate_map(iou_threshold, train_tear_annotations)\n",
    "    print(f'AP@{iou_threshold}: {ap_test_good}, {ap_test_tear}, {ap_train_good}, {ap_train_tear}')\n",
    "\n",
    "    # Calculate MAP\n",
    "    map_value = np.mean([ap_test_good, ap_test_tear, ap_train_good, ap_train_tear])\n",
    "    print(f'MAP: {map_value}')\n"
   ]
  }
 ],
 "metadata": {
  "kernelspec": {
   "display_name": "anomalib_env",
   "language": "python",
   "name": "python3"
  },
  "language_info": {
   "codemirror_mode": {
    "name": "ipython",
    "version": 3
   },
   "file_extension": ".py",
   "mimetype": "text/x-python",
   "name": "python",
   "nbconvert_exporter": "python",
   "pygments_lexer": "ipython3",
   "version": "3.10.14"
  }
 },
 "nbformat": 4,
 "nbformat_minor": 2
}
